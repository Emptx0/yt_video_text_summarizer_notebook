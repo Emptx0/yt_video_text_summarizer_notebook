{
 "cells": [
  {
   "metadata": {},
   "cell_type": "markdown",
   "source": "# Whisper part",
   "id": "2773845d7791e42c"
  },
  {
   "metadata": {
    "ExecuteTime": {
     "end_time": "2025-04-25T16:33:35.828042Z",
     "start_time": "2025-04-25T16:33:35.821928Z"
    }
   },
   "cell_type": "code",
   "source": [
    "import torch\n",
    "print(torch.cuda.is_available())\n",
    "print(torch.cuda.device_count())\n",
    "print(torch.cuda.current_device())"
   ],
   "id": "c5c0a054b1636834",
   "outputs": [
    {
     "name": "stdout",
     "output_type": "stream",
     "text": [
      "True\n",
      "1\n",
      "0\n"
     ]
    }
   ],
   "execution_count": 20
  },
  {
   "cell_type": "code",
   "id": "initial_id",
   "metadata": {
    "collapsed": true,
    "ExecuteTime": {
     "end_time": "2025-04-25T16:33:35.937185Z",
     "start_time": "2025-04-25T16:33:35.934081Z"
    }
   },
   "source": "from transformers import pipeline, logging",
   "outputs": [],
   "execution_count": 21
  },
  {
   "metadata": {
    "ExecuteTime": {
     "end_time": "2025-04-25T16:33:40.086145Z",
     "start_time": "2025-04-25T16:33:35.952338Z"
    }
   },
   "cell_type": "code",
   "source": [
    "whisper = pipeline(task=\"automatic-speech-recognition\",\n",
    "                   model=\"openai/whisper-large-v3-turbo\",\n",
    "                   return_timestamps=True,\n",
    "                   device=-1)"
   ],
   "id": "8b0f3dcd7f8959b2",
   "outputs": [],
   "execution_count": 22
  },
  {
   "metadata": {
    "ExecuteTime": {
     "end_time": "2025-04-25T16:34:04.146368Z",
     "start_time": "2025-04-25T16:33:40.089295Z"
    }
   },
   "cell_type": "code",
   "source": [
    "logging.set_verbosity_error()\n",
    "text = whisper(\"audio.mp3\")"
   ],
   "id": "52c8c0801c736390",
   "outputs": [],
   "execution_count": 23
  },
  {
   "metadata": {
    "ExecuteTime": {
     "end_time": "2025-04-25T16:34:04.152817Z",
     "start_time": "2025-04-25T16:34:04.147785Z"
    }
   },
   "cell_type": "code",
   "source": [
    "text = text[\"text\"]\n",
    "text"
   ],
   "id": "6e19bcc6e0458eec",
   "outputs": [
    {
     "data": {
      "text/plain": [
       "\" If you work and travel then this portable monitor setup is for you. It includes a portable monitor, a USB-C cable and a stand. The stand makes it possible to raise the monitor to eye level. This 4K monitor is 16 inches and it connects to the stand with this clever magnetic mechanism which is very strong. The monitor only needs one USB-C cable to work as it's capable to carry both video and power. I love this little setup and bring it with me everywhere I go since it significantly improves my productivity while working remotely.\""
      ]
     },
     "execution_count": 24,
     "metadata": {},
     "output_type": "execute_result"
    }
   ],
   "execution_count": 24
  },
  {
   "metadata": {},
   "cell_type": "markdown",
   "source": "# custom NLP part",
   "id": "efac23b433af7ef2"
  },
  {
   "metadata": {
    "ExecuteTime": {
     "end_time": "2025-04-25T16:34:04.736394Z",
     "start_time": "2025-04-25T16:34:04.154803Z"
    }
   },
   "cell_type": "code",
   "source": [
    "import nltk, string\n",
    "from nltk.corpus import stopwords"
   ],
   "id": "f08ae84ae272b416",
   "outputs": [],
   "execution_count": 25
  },
  {
   "metadata": {
    "ExecuteTime": {
     "end_time": "2025-04-25T16:34:04.947220Z",
     "start_time": "2025-04-25T16:34:04.737358Z"
    }
   },
   "cell_type": "code",
   "source": "nltk.download(\"stopwords\")",
   "id": "d1a118d4f0a9b6b9",
   "outputs": [
    {
     "name": "stderr",
     "output_type": "stream",
     "text": [
      "[nltk_data] Downloading package stopwords to\n",
      "[nltk_data]     C:\\Users\\Tymofii\\AppData\\Roaming\\nltk_data...\n",
      "[nltk_data]   Package stopwords is already up-to-date!\n"
     ]
    },
    {
     "data": {
      "text/plain": [
       "True"
      ]
     },
     "execution_count": 26,
     "metadata": {},
     "output_type": "execute_result"
    }
   ],
   "execution_count": 26
  },
  {
   "metadata": {
    "ExecuteTime": {
     "end_time": "2025-04-25T16:34:04.953400Z",
     "start_time": "2025-04-25T16:34:04.948302Z"
    }
   },
   "cell_type": "code",
   "source": "stopwords_list = stopwords.words(\"english\")",
   "id": "aac4dd8c72dc211e",
   "outputs": [],
   "execution_count": 27
  },
  {
   "metadata": {
    "ExecuteTime": {
     "end_time": "2025-04-25T16:34:04.959536Z",
     "start_time": "2025-04-25T16:34:04.954662Z"
    }
   },
   "cell_type": "code",
   "source": [
    "processed_text = [word for word in text.split() if word not in stopwords_list]\n",
    "\n",
    "translator = str.maketrans({key: \" \" for key in string.punctuation})\n",
    "clean_text = text.translate(translator)\n",
    "clean_text = [word.lower() for word in clean_text.split() if word not in stopwords_list]"
   ],
   "id": "3804bb49493f7f0e",
   "outputs": [],
   "execution_count": 28
  },
  {
   "metadata": {
    "ExecuteTime": {
     "end_time": "2025-04-25T16:34:04.963943Z",
     "start_time": "2025-04-25T16:34:04.960838Z"
    }
   },
   "cell_type": "code",
   "source": [
    "processed_text = \" \".join(processed_text)\n",
    "clean_text = \" \".join(clean_text)"
   ],
   "id": "a4d746249b8a796",
   "outputs": [],
   "execution_count": 29
  },
  {
   "metadata": {
    "ExecuteTime": {
     "end_time": "2025-04-25T16:34:04.969014Z",
     "start_time": "2025-04-25T16:34:04.965172Z"
    }
   },
   "cell_type": "code",
   "source": "clean_text",
   "id": "ac6f7eb86b2c6180",
   "outputs": [
    {
     "data": {
      "text/plain": [
       "'if work travel portable monitor setup it includes portable monitor usb c cable stand the stand makes possible raise monitor eye level this 4k monitor 16 inches connects stand clever magnetic mechanism strong the monitor needs one usb c cable work capable carry video power i love little setup bring everywhere i go since significantly improves productivity working remotely'"
      ]
     },
     "execution_count": 30,
     "metadata": {},
     "output_type": "execute_result"
    }
   ],
   "execution_count": 30
  },
  {
   "metadata": {
    "ExecuteTime": {
     "end_time": "2025-04-25T16:34:04.975631Z",
     "start_time": "2025-04-25T16:34:04.972077Z"
    }
   },
   "cell_type": "code",
   "source": "processed_text",
   "id": "6c472afef023206d",
   "outputs": [
    {
     "data": {
      "text/plain": [
       "'If work travel portable monitor setup you. It includes portable monitor, USB-C cable stand. The stand makes possible raise monitor eye level. This 4K monitor 16 inches connects stand clever magnetic mechanism strong. The monitor needs one USB-C cable work capable carry video power. I love little setup bring everywhere I go since significantly improves productivity working remotely.'"
      ]
     },
     "execution_count": 31,
     "metadata": {},
     "output_type": "execute_result"
    }
   ],
   "execution_count": 31
  },
  {
   "metadata": {
    "ExecuteTime": {
     "end_time": "2025-04-25T16:34:05.009735Z",
     "start_time": "2025-04-25T16:34:04.976887Z"
    }
   },
   "cell_type": "code",
   "source": [
    "from nltk.tokenize import sent_tokenize\n",
    "\n",
    "processed_text_lower = processed_text.lower()\n",
    "sentences = sent_tokenize(processed_text)\n",
    "sentences_lower = sent_tokenize(processed_text.lower())\n",
    "\n",
    "print(sentences)"
   ],
   "id": "ac687127a9212c8c",
   "outputs": [
    {
     "name": "stdout",
     "output_type": "stream",
     "text": [
      "['If work travel portable monitor setup you.', 'It includes portable monitor, USB-C cable stand.', 'The stand makes possible raise monitor eye level.', 'This 4K monitor 16 inches connects stand clever magnetic mechanism strong.', 'The monitor needs one USB-C cable work capable carry video power.', 'I love little setup bring everywhere I go since significantly improves productivity working remotely.']\n"
     ]
    }
   ],
   "execution_count": 32
  },
  {
   "metadata": {
    "ExecuteTime": {
     "end_time": "2025-04-25T16:34:05.013730Z",
     "start_time": "2025-04-25T16:34:05.010972Z"
    }
   },
   "cell_type": "code",
   "source": "from sklearn.feature_extraction.text import TfidfVectorizer",
   "id": "2cc017f41c50c4b5",
   "outputs": [],
   "execution_count": 33
  },
  {
   "metadata": {
    "ExecuteTime": {
     "end_time": "2025-04-25T16:34:05.028432Z",
     "start_time": "2025-04-25T16:34:05.014908Z"
    }
   },
   "cell_type": "code",
   "source": [
    "vectorizer = TfidfVectorizer()\n",
    "tfidf = vectorizer.fit_transform(sentences_lower)"
   ],
   "id": "60cb0064541b7b46",
   "outputs": [],
   "execution_count": 34
  },
  {
   "metadata": {
    "ExecuteTime": {
     "end_time": "2025-04-25T16:34:05.033192Z",
     "start_time": "2025-04-25T16:34:05.029626Z"
    }
   },
   "cell_type": "code",
   "source": "tfidf.shape",
   "id": "62f69b9f09ec8506",
   "outputs": [
    {
     "data": {
      "text/plain": [
       "(6, 44)"
      ]
     },
     "execution_count": 35,
     "metadata": {},
     "output_type": "execute_result"
    }
   ],
   "execution_count": 35
  },
  {
   "metadata": {
    "ExecuteTime": {
     "end_time": "2025-04-25T16:34:05.038288Z",
     "start_time": "2025-04-25T16:34:05.034622Z"
    }
   },
   "cell_type": "code",
   "source": "print(tfidf)",
   "id": "fa41ba20c9e2e90c",
   "outputs": [
    {
     "name": "stdout",
     "output_type": "stream",
     "text": [
      "<Compressed Sparse Row sparse matrix of dtype 'float64'\n",
      "\twith 56 stored elements and shape (6, 44)>\n",
      "  Coords\tValues\n",
      "  (0, 11)\t0.43520448196839484\n",
      "  (0, 41)\t0.35687390090050225\n",
      "  (0, 38)\t0.43520448196839484\n",
      "  (0, 25)\t0.35687390090050225\n",
      "  (0, 22)\t0.22296688810681925\n",
      "  (0, 31)\t0.35687390090050225\n",
      "  (0, 43)\t0.43520448196839484\n",
      "  (1, 25)\t0.3758906283126315\n",
      "  (1, 22)\t0.2348481170853437\n",
      "  (1, 15)\t0.4583952083881375\n",
      "  (1, 14)\t0.4583952083881375\n",
      "  (1, 39)\t0.3758906283126315\n",
      "  (1, 3)\t0.3758906283126315\n",
      "  (1, 34)\t0.3173526971608497\n",
      "  (2, 22)\t0.20229065052473877\n",
      "  (2, 34)\t0.2733574548145914\n",
      "  (2, 36)\t0.32378015489850587\n",
      "  (2, 20)\t0.39484695918835844\n",
      "  (2, 26)\t0.39484695918835844\n",
      "  (2, 29)\t0.39484695918835844\n",
      "  (2, 9)\t0.39484695918835844\n",
      "  (2, 16)\t0.39484695918835844\n",
      "  (3, 22)\t0.16414511486440758\n",
      "  (3, 34)\t0.22181099671779383\n",
      "  (3, 37)\t0.32039147287189657\n",
      "  :\t:\n",
      "  (3, 21)\t0.32039147287189657\n",
      "  (3, 35)\t0.32039147287189657\n",
      "  (4, 41)\t0.27406729112675954\n",
      "  (4, 22)\t0.17123115722445717\n",
      "  (4, 39)\t0.27406729112675954\n",
      "  (4, 3)\t0.27406729112675954\n",
      "  (4, 36)\t0.27406729112675954\n",
      "  (4, 23)\t0.33422257317874593\n",
      "  (4, 24)\t0.33422257317874593\n",
      "  (4, 4)\t0.33422257317874593\n",
      "  (4, 5)\t0.33422257317874593\n",
      "  (4, 40)\t0.33422257317874593\n",
      "  (4, 27)\t0.33422257317874593\n",
      "  (5, 31)\t0.24001639659743357\n",
      "  (5, 18)\t0.29269781645990883\n",
      "  (5, 17)\t0.29269781645990883\n",
      "  (5, 2)\t0.29269781645990883\n",
      "  (5, 8)\t0.29269781645990883\n",
      "  (5, 10)\t0.29269781645990883\n",
      "  (5, 33)\t0.29269781645990883\n",
      "  (5, 32)\t0.29269781645990883\n",
      "  (5, 12)\t0.29269781645990883\n",
      "  (5, 28)\t0.29269781645990883\n",
      "  (5, 42)\t0.29269781645990883\n",
      "  (5, 30)\t0.29269781645990883\n"
     ]
    }
   ],
   "execution_count": 36
  },
  {
   "metadata": {
    "ExecuteTime": {
     "end_time": "2025-04-25T16:34:05.045816Z",
     "start_time": "2025-04-25T16:34:05.039486Z"
    }
   },
   "cell_type": "code",
   "source": "tfidf.transpose().toarray()",
   "id": "172cda18a3d76b0e",
   "outputs": [
    {
     "data": {
      "text/plain": [
       "array([[0.        , 0.        , 0.        , 0.32039147, 0.        ,\n",
       "        0.        ],\n",
       "       [0.        , 0.        , 0.        , 0.32039147, 0.        ,\n",
       "        0.        ],\n",
       "       [0.        , 0.        , 0.        , 0.        , 0.        ,\n",
       "        0.29269782],\n",
       "       [0.        , 0.37589063, 0.        , 0.        , 0.27406729,\n",
       "        0.        ],\n",
       "       [0.        , 0.        , 0.        , 0.        , 0.33422257,\n",
       "        0.        ],\n",
       "       [0.        , 0.        , 0.        , 0.        , 0.33422257,\n",
       "        0.        ],\n",
       "       [0.        , 0.        , 0.        , 0.32039147, 0.        ,\n",
       "        0.        ],\n",
       "       [0.        , 0.        , 0.        , 0.32039147, 0.        ,\n",
       "        0.        ],\n",
       "       [0.        , 0.        , 0.        , 0.        , 0.        ,\n",
       "        0.29269782],\n",
       "       [0.        , 0.        , 0.39484696, 0.        , 0.        ,\n",
       "        0.        ],\n",
       "       [0.        , 0.        , 0.        , 0.        , 0.        ,\n",
       "        0.29269782],\n",
       "       [0.43520448, 0.        , 0.        , 0.        , 0.        ,\n",
       "        0.        ],\n",
       "       [0.        , 0.        , 0.        , 0.        , 0.        ,\n",
       "        0.29269782],\n",
       "       [0.        , 0.        , 0.        , 0.32039147, 0.        ,\n",
       "        0.        ],\n",
       "       [0.        , 0.45839521, 0.        , 0.        , 0.        ,\n",
       "        0.        ],\n",
       "       [0.        , 0.45839521, 0.        , 0.        , 0.        ,\n",
       "        0.        ],\n",
       "       [0.        , 0.        , 0.39484696, 0.        , 0.        ,\n",
       "        0.        ],\n",
       "       [0.        , 0.        , 0.        , 0.        , 0.        ,\n",
       "        0.29269782],\n",
       "       [0.        , 0.        , 0.        , 0.        , 0.        ,\n",
       "        0.29269782],\n",
       "       [0.        , 0.        , 0.        , 0.32039147, 0.        ,\n",
       "        0.        ],\n",
       "       [0.        , 0.        , 0.39484696, 0.        , 0.        ,\n",
       "        0.        ],\n",
       "       [0.        , 0.        , 0.        , 0.32039147, 0.        ,\n",
       "        0.        ],\n",
       "       [0.22296689, 0.23484812, 0.20229065, 0.16414511, 0.17123116,\n",
       "        0.        ],\n",
       "       [0.        , 0.        , 0.        , 0.        , 0.33422257,\n",
       "        0.        ],\n",
       "       [0.        , 0.        , 0.        , 0.        , 0.33422257,\n",
       "        0.        ],\n",
       "       [0.3568739 , 0.37589063, 0.        , 0.        , 0.        ,\n",
       "        0.        ],\n",
       "       [0.        , 0.        , 0.39484696, 0.        , 0.        ,\n",
       "        0.        ],\n",
       "       [0.        , 0.        , 0.        , 0.        , 0.33422257,\n",
       "        0.        ],\n",
       "       [0.        , 0.        , 0.        , 0.        , 0.        ,\n",
       "        0.29269782],\n",
       "       [0.        , 0.        , 0.39484696, 0.        , 0.        ,\n",
       "        0.        ],\n",
       "       [0.        , 0.        , 0.        , 0.        , 0.        ,\n",
       "        0.29269782],\n",
       "       [0.3568739 , 0.        , 0.        , 0.        , 0.        ,\n",
       "        0.2400164 ],\n",
       "       [0.        , 0.        , 0.        , 0.        , 0.        ,\n",
       "        0.29269782],\n",
       "       [0.        , 0.        , 0.        , 0.        , 0.        ,\n",
       "        0.29269782],\n",
       "       [0.        , 0.3173527 , 0.27335745, 0.221811  , 0.        ,\n",
       "        0.        ],\n",
       "       [0.        , 0.        , 0.        , 0.32039147, 0.        ,\n",
       "        0.        ],\n",
       "       [0.        , 0.        , 0.32378015, 0.        , 0.27406729,\n",
       "        0.        ],\n",
       "       [0.        , 0.        , 0.        , 0.32039147, 0.        ,\n",
       "        0.        ],\n",
       "       [0.43520448, 0.        , 0.        , 0.        , 0.        ,\n",
       "        0.        ],\n",
       "       [0.        , 0.37589063, 0.        , 0.        , 0.27406729,\n",
       "        0.        ],\n",
       "       [0.        , 0.        , 0.        , 0.        , 0.33422257,\n",
       "        0.        ],\n",
       "       [0.3568739 , 0.        , 0.        , 0.        , 0.27406729,\n",
       "        0.        ],\n",
       "       [0.        , 0.        , 0.        , 0.        , 0.        ,\n",
       "        0.29269782],\n",
       "       [0.43520448, 0.        , 0.        , 0.        , 0.        ,\n",
       "        0.        ]])"
      ]
     },
     "execution_count": 37,
     "metadata": {},
     "output_type": "execute_result"
    }
   ],
   "execution_count": 37
  },
  {
   "metadata": {
    "ExecuteTime": {
     "end_time": "2025-04-25T16:34:05.049801Z",
     "start_time": "2025-04-25T16:34:05.047327Z"
    }
   },
   "cell_type": "code",
   "source": "import pandas as pd",
   "id": "57730d83f9c5f957",
   "outputs": [],
   "execution_count": 38
  },
  {
   "metadata": {
    "ExecuteTime": {
     "end_time": "2025-04-25T16:34:05.056950Z",
     "start_time": "2025-04-25T16:34:05.051007Z"
    }
   },
   "cell_type": "code",
   "source": [
    "word_scores = tfidf.sum(axis=0).transpose()\n",
    "word_scores"
   ],
   "id": "938b4d9807f934fa",
   "outputs": [
    {
     "data": {
      "text/plain": [
       "matrix([[0.32039147],\n",
       "        [0.32039147],\n",
       "        [0.29269782],\n",
       "        [0.64995792],\n",
       "        [0.33422257],\n",
       "        [0.33422257],\n",
       "        [0.32039147],\n",
       "        [0.32039147],\n",
       "        [0.29269782],\n",
       "        [0.39484696],\n",
       "        [0.29269782],\n",
       "        [0.43520448],\n",
       "        [0.29269782],\n",
       "        [0.32039147],\n",
       "        [0.45839521],\n",
       "        [0.45839521],\n",
       "        [0.39484696],\n",
       "        [0.29269782],\n",
       "        [0.29269782],\n",
       "        [0.32039147],\n",
       "        [0.39484696],\n",
       "        [0.32039147],\n",
       "        [0.99548193],\n",
       "        [0.33422257],\n",
       "        [0.33422257],\n",
       "        [0.73276453],\n",
       "        [0.39484696],\n",
       "        [0.33422257],\n",
       "        [0.29269782],\n",
       "        [0.39484696],\n",
       "        [0.29269782],\n",
       "        [0.5968903 ],\n",
       "        [0.29269782],\n",
       "        [0.29269782],\n",
       "        [0.81252115],\n",
       "        [0.32039147],\n",
       "        [0.59784745],\n",
       "        [0.32039147],\n",
       "        [0.43520448],\n",
       "        [0.64995792],\n",
       "        [0.33422257],\n",
       "        [0.63094119],\n",
       "        [0.29269782],\n",
       "        [0.43520448]])"
      ]
     },
     "execution_count": 39,
     "metadata": {},
     "output_type": "execute_result"
    }
   ],
   "execution_count": 39
  },
  {
   "metadata": {
    "ExecuteTime": {
     "end_time": "2025-04-25T16:34:05.092163Z",
     "start_time": "2025-04-25T16:34:05.058300Z"
    }
   },
   "cell_type": "code",
   "source": [
    "word_scores_df = pd.DataFrame(word_scores, \n",
    "                              index=vectorizer.get_feature_names_out(), \n",
    "                              columns=[\"score\"]).sort_values(by=[\"score\"], ascending=False)\n",
    "word_scores_df.drop(index=[word for word in word_scores_df.index\n",
    "                           if word in stopwords_list + [\"like\"]], \n",
    "                    inplace=True)\n",
    "word_scores_df"
   ],
   "id": "9dcd8e5b6406bf10",
   "outputs": [
    {
     "data": {
      "text/plain": [
       "                  score\n",
       "monitor        0.995482\n",
       "stand          0.812521\n",
       "portable       0.732765\n",
       "cable          0.649958\n",
       "usb            0.649958\n",
       "work           0.630941\n",
       "setup          0.596890\n",
       "includes       0.458395\n",
       "travel         0.435204\n",
       "eye            0.394847\n",
       "makes          0.394847\n",
       "raise          0.394847\n",
       "level          0.394847\n",
       "possible       0.394847\n",
       "video          0.334223\n",
       "carry          0.334223\n",
       "capable        0.334223\n",
       "power          0.334223\n",
       "needs          0.334223\n",
       "one            0.334223\n",
       "4k             0.320391\n",
       "16             0.320391\n",
       "connects       0.320391\n",
       "clever         0.320391\n",
       "magnetic       0.320391\n",
       "inches         0.320391\n",
       "strong         0.320391\n",
       "mechanism      0.320391\n",
       "go             0.292698\n",
       "bring          0.292698\n",
       "everywhere     0.292698\n",
       "little         0.292698\n",
       "improves       0.292698\n",
       "love           0.292698\n",
       "remotely       0.292698\n",
       "significantly  0.292698\n",
       "since          0.292698\n",
       "productivity   0.292698\n",
       "working        0.292698"
      ],
      "text/html": [
       "<div>\n",
       "<style scoped>\n",
       "    .dataframe tbody tr th:only-of-type {\n",
       "        vertical-align: middle;\n",
       "    }\n",
       "\n",
       "    .dataframe tbody tr th {\n",
       "        vertical-align: top;\n",
       "    }\n",
       "\n",
       "    .dataframe thead th {\n",
       "        text-align: right;\n",
       "    }\n",
       "</style>\n",
       "<table border=\"1\" class=\"dataframe\">\n",
       "  <thead>\n",
       "    <tr style=\"text-align: right;\">\n",
       "      <th></th>\n",
       "      <th>score</th>\n",
       "    </tr>\n",
       "  </thead>\n",
       "  <tbody>\n",
       "    <tr>\n",
       "      <th>monitor</th>\n",
       "      <td>0.995482</td>\n",
       "    </tr>\n",
       "    <tr>\n",
       "      <th>stand</th>\n",
       "      <td>0.812521</td>\n",
       "    </tr>\n",
       "    <tr>\n",
       "      <th>portable</th>\n",
       "      <td>0.732765</td>\n",
       "    </tr>\n",
       "    <tr>\n",
       "      <th>cable</th>\n",
       "      <td>0.649958</td>\n",
       "    </tr>\n",
       "    <tr>\n",
       "      <th>usb</th>\n",
       "      <td>0.649958</td>\n",
       "    </tr>\n",
       "    <tr>\n",
       "      <th>work</th>\n",
       "      <td>0.630941</td>\n",
       "    </tr>\n",
       "    <tr>\n",
       "      <th>setup</th>\n",
       "      <td>0.596890</td>\n",
       "    </tr>\n",
       "    <tr>\n",
       "      <th>includes</th>\n",
       "      <td>0.458395</td>\n",
       "    </tr>\n",
       "    <tr>\n",
       "      <th>travel</th>\n",
       "      <td>0.435204</td>\n",
       "    </tr>\n",
       "    <tr>\n",
       "      <th>eye</th>\n",
       "      <td>0.394847</td>\n",
       "    </tr>\n",
       "    <tr>\n",
       "      <th>makes</th>\n",
       "      <td>0.394847</td>\n",
       "    </tr>\n",
       "    <tr>\n",
       "      <th>raise</th>\n",
       "      <td>0.394847</td>\n",
       "    </tr>\n",
       "    <tr>\n",
       "      <th>level</th>\n",
       "      <td>0.394847</td>\n",
       "    </tr>\n",
       "    <tr>\n",
       "      <th>possible</th>\n",
       "      <td>0.394847</td>\n",
       "    </tr>\n",
       "    <tr>\n",
       "      <th>video</th>\n",
       "      <td>0.334223</td>\n",
       "    </tr>\n",
       "    <tr>\n",
       "      <th>carry</th>\n",
       "      <td>0.334223</td>\n",
       "    </tr>\n",
       "    <tr>\n",
       "      <th>capable</th>\n",
       "      <td>0.334223</td>\n",
       "    </tr>\n",
       "    <tr>\n",
       "      <th>power</th>\n",
       "      <td>0.334223</td>\n",
       "    </tr>\n",
       "    <tr>\n",
       "      <th>needs</th>\n",
       "      <td>0.334223</td>\n",
       "    </tr>\n",
       "    <tr>\n",
       "      <th>one</th>\n",
       "      <td>0.334223</td>\n",
       "    </tr>\n",
       "    <tr>\n",
       "      <th>4k</th>\n",
       "      <td>0.320391</td>\n",
       "    </tr>\n",
       "    <tr>\n",
       "      <th>16</th>\n",
       "      <td>0.320391</td>\n",
       "    </tr>\n",
       "    <tr>\n",
       "      <th>connects</th>\n",
       "      <td>0.320391</td>\n",
       "    </tr>\n",
       "    <tr>\n",
       "      <th>clever</th>\n",
       "      <td>0.320391</td>\n",
       "    </tr>\n",
       "    <tr>\n",
       "      <th>magnetic</th>\n",
       "      <td>0.320391</td>\n",
       "    </tr>\n",
       "    <tr>\n",
       "      <th>inches</th>\n",
       "      <td>0.320391</td>\n",
       "    </tr>\n",
       "    <tr>\n",
       "      <th>strong</th>\n",
       "      <td>0.320391</td>\n",
       "    </tr>\n",
       "    <tr>\n",
       "      <th>mechanism</th>\n",
       "      <td>0.320391</td>\n",
       "    </tr>\n",
       "    <tr>\n",
       "      <th>go</th>\n",
       "      <td>0.292698</td>\n",
       "    </tr>\n",
       "    <tr>\n",
       "      <th>bring</th>\n",
       "      <td>0.292698</td>\n",
       "    </tr>\n",
       "    <tr>\n",
       "      <th>everywhere</th>\n",
       "      <td>0.292698</td>\n",
       "    </tr>\n",
       "    <tr>\n",
       "      <th>little</th>\n",
       "      <td>0.292698</td>\n",
       "    </tr>\n",
       "    <tr>\n",
       "      <th>improves</th>\n",
       "      <td>0.292698</td>\n",
       "    </tr>\n",
       "    <tr>\n",
       "      <th>love</th>\n",
       "      <td>0.292698</td>\n",
       "    </tr>\n",
       "    <tr>\n",
       "      <th>remotely</th>\n",
       "      <td>0.292698</td>\n",
       "    </tr>\n",
       "    <tr>\n",
       "      <th>significantly</th>\n",
       "      <td>0.292698</td>\n",
       "    </tr>\n",
       "    <tr>\n",
       "      <th>since</th>\n",
       "      <td>0.292698</td>\n",
       "    </tr>\n",
       "    <tr>\n",
       "      <th>productivity</th>\n",
       "      <td>0.292698</td>\n",
       "    </tr>\n",
       "    <tr>\n",
       "      <th>working</th>\n",
       "      <td>0.292698</td>\n",
       "    </tr>\n",
       "  </tbody>\n",
       "</table>\n",
       "</div>"
      ]
     },
     "execution_count": 40,
     "metadata": {},
     "output_type": "execute_result"
    }
   ],
   "execution_count": 40
  },
  {
   "metadata": {
    "ExecuteTime": {
     "end_time": "2025-04-25T16:34:05.101017Z",
     "start_time": "2025-04-25T16:34:05.093409Z"
    }
   },
   "cell_type": "code",
   "source": [
    "sentence_scores = tfidf.sum(axis=1)\n",
    "sentence_scores_df = pd.DataFrame(sentence_scores, columns=[\"score\"]).sort_values(by=[\"score\"], ascending=False)\n",
    "sentence_scores_df"
   ],
   "id": "649776b5c840f0a8",
   "outputs": [
    {
     "data": {
      "text/plain": [
       "      score\n",
       "5  3.459692\n",
       "4  3.272836\n",
       "3  3.269479\n",
       "2  2.773663\n",
       "0  2.599202\n",
       "1  2.596663"
      ],
      "text/html": [
       "<div>\n",
       "<style scoped>\n",
       "    .dataframe tbody tr th:only-of-type {\n",
       "        vertical-align: middle;\n",
       "    }\n",
       "\n",
       "    .dataframe tbody tr th {\n",
       "        vertical-align: top;\n",
       "    }\n",
       "\n",
       "    .dataframe thead th {\n",
       "        text-align: right;\n",
       "    }\n",
       "</style>\n",
       "<table border=\"1\" class=\"dataframe\">\n",
       "  <thead>\n",
       "    <tr style=\"text-align: right;\">\n",
       "      <th></th>\n",
       "      <th>score</th>\n",
       "    </tr>\n",
       "  </thead>\n",
       "  <tbody>\n",
       "    <tr>\n",
       "      <th>5</th>\n",
       "      <td>3.459692</td>\n",
       "    </tr>\n",
       "    <tr>\n",
       "      <th>4</th>\n",
       "      <td>3.272836</td>\n",
       "    </tr>\n",
       "    <tr>\n",
       "      <th>3</th>\n",
       "      <td>3.269479</td>\n",
       "    </tr>\n",
       "    <tr>\n",
       "      <th>2</th>\n",
       "      <td>2.773663</td>\n",
       "    </tr>\n",
       "    <tr>\n",
       "      <th>0</th>\n",
       "      <td>2.599202</td>\n",
       "    </tr>\n",
       "    <tr>\n",
       "      <th>1</th>\n",
       "      <td>2.596663</td>\n",
       "    </tr>\n",
       "  </tbody>\n",
       "</table>\n",
       "</div>"
      ]
     },
     "execution_count": 41,
     "metadata": {},
     "output_type": "execute_result"
    }
   ],
   "execution_count": 41
  },
  {
   "metadata": {
    "ExecuteTime": {
     "end_time": "2025-04-25T16:34:05.109261Z",
     "start_time": "2025-04-25T16:34:05.102491Z"
    }
   },
   "cell_type": "code",
   "source": [
    "sentence_scores_df = sentence_scores_df.reset_index()\n",
    "sentence_scores_df"
   ],
   "id": "be943538c6517b11",
   "outputs": [
    {
     "data": {
      "text/plain": [
       "   index     score\n",
       "0      5  3.459692\n",
       "1      4  3.272836\n",
       "2      3  3.269479\n",
       "3      2  2.773663\n",
       "4      0  2.599202\n",
       "5      1  2.596663"
      ],
      "text/html": [
       "<div>\n",
       "<style scoped>\n",
       "    .dataframe tbody tr th:only-of-type {\n",
       "        vertical-align: middle;\n",
       "    }\n",
       "\n",
       "    .dataframe tbody tr th {\n",
       "        vertical-align: top;\n",
       "    }\n",
       "\n",
       "    .dataframe thead th {\n",
       "        text-align: right;\n",
       "    }\n",
       "</style>\n",
       "<table border=\"1\" class=\"dataframe\">\n",
       "  <thead>\n",
       "    <tr style=\"text-align: right;\">\n",
       "      <th></th>\n",
       "      <th>index</th>\n",
       "      <th>score</th>\n",
       "    </tr>\n",
       "  </thead>\n",
       "  <tbody>\n",
       "    <tr>\n",
       "      <th>0</th>\n",
       "      <td>5</td>\n",
       "      <td>3.459692</td>\n",
       "    </tr>\n",
       "    <tr>\n",
       "      <th>1</th>\n",
       "      <td>4</td>\n",
       "      <td>3.272836</td>\n",
       "    </tr>\n",
       "    <tr>\n",
       "      <th>2</th>\n",
       "      <td>3</td>\n",
       "      <td>3.269479</td>\n",
       "    </tr>\n",
       "    <tr>\n",
       "      <th>3</th>\n",
       "      <td>2</td>\n",
       "      <td>2.773663</td>\n",
       "    </tr>\n",
       "    <tr>\n",
       "      <th>4</th>\n",
       "      <td>0</td>\n",
       "      <td>2.599202</td>\n",
       "    </tr>\n",
       "    <tr>\n",
       "      <th>5</th>\n",
       "      <td>1</td>\n",
       "      <td>2.596663</td>\n",
       "    </tr>\n",
       "  </tbody>\n",
       "</table>\n",
       "</div>"
      ]
     },
     "execution_count": 42,
     "metadata": {},
     "output_type": "execute_result"
    }
   ],
   "execution_count": 42
  },
  {
   "metadata": {
    "ExecuteTime": {
     "end_time": "2025-04-25T16:34:05.114261Z",
     "start_time": "2025-04-25T16:34:05.110577Z"
    }
   },
   "cell_type": "code",
   "source": [
    "top_n = 2\n",
    "indexes = (sentence_scores_df.head(top_n)[\"index\"].astype(int))"
   ],
   "id": "b418a6bc4f2abd18",
   "outputs": [],
   "execution_count": 43
  },
  {
   "metadata": {
    "ExecuteTime": {
     "end_time": "2025-04-25T16:34:05.119344Z",
     "start_time": "2025-04-25T16:34:05.115683Z"
    }
   },
   "cell_type": "code",
   "source": [
    "summary = \" \".join(sentences[i] for i in indexes)\n",
    "keywords = \", \".join(word_scores_df.head(3).index.tolist())"
   ],
   "id": "18506d5e0801f145",
   "outputs": [],
   "execution_count": 44
  },
  {
   "metadata": {
    "ExecuteTime": {
     "end_time": "2025-04-25T16:34:05.124779Z",
     "start_time": "2025-04-25T16:34:05.120753Z"
    }
   },
   "cell_type": "code",
   "source": [
    "print(\"Text:\")\n",
    "print(text)\n",
    "print(\"\\nSummary:\")\n",
    "print(summary)\n",
    "print(\"\\nKeywords:\")\n",
    "print(keywords)"
   ],
   "id": "996c2661b57c93d4",
   "outputs": [
    {
     "name": "stdout",
     "output_type": "stream",
     "text": [
      "Text:\n",
      " If you work and travel then this portable monitor setup is for you. It includes a portable monitor, a USB-C cable and a stand. The stand makes it possible to raise the monitor to eye level. This 4K monitor is 16 inches and it connects to the stand with this clever magnetic mechanism which is very strong. The monitor only needs one USB-C cable to work as it's capable to carry both video and power. I love this little setup and bring it with me everywhere I go since it significantly improves my productivity while working remotely.\n",
      "\n",
      "Summary:\n",
      "I love little setup bring everywhere I go since significantly improves productivity working remotely. The monitor needs one USB-C cable work capable carry video power.\n",
      "\n",
      "Keywords:\n",
      "monitor, stand, portable\n"
     ]
    }
   ],
   "execution_count": 45
  },
  {
   "metadata": {
    "ExecuteTime": {
     "end_time": "2025-04-25T16:34:05.128049Z",
     "start_time": "2025-04-25T16:34:05.125965Z"
    }
   },
   "cell_type": "code",
   "source": "",
   "id": "54fa88f449ef0261",
   "outputs": [],
   "execution_count": 45
  }
 ],
 "metadata": {
  "kernelspec": {
   "display_name": "Python 3",
   "language": "python",
   "name": "python3"
  },
  "language_info": {
   "codemirror_mode": {
    "name": "ipython",
    "version": 2
   },
   "file_extension": ".py",
   "mimetype": "text/x-python",
   "name": "python",
   "nbconvert_exporter": "python",
   "pygments_lexer": "ipython2",
   "version": "2.7.6"
  }
 },
 "nbformat": 4,
 "nbformat_minor": 5
}
